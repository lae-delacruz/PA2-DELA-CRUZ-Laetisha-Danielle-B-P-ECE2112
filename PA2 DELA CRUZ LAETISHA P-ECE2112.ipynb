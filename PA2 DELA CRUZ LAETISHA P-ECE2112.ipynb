{
 "cells": [
  {
   "cell_type": "code",
   "execution_count": 2,
   "id": "3b0df4a2-c5f2-4d18-8e96-40f208b810f8",
   "metadata": {},
   "outputs": [],
   "source": [
    "import numpy as np"
   ]
  },
  {
   "cell_type": "markdown",
   "id": "1ee1004d-8295-43fc-a0be-b59e04431552",
   "metadata": {},
   "source": [
    "NORMALIZATION PROBLEM: "
   ]
  },
  {
   "cell_type": "markdown",
   "id": "883ae6db-3331-4cd6-8ae2-42e274dd3c35",
   "metadata": {},
   "source": [
    "- In this problem, create a random 5 x 5 ndarray and store it to variable X. Normalize X. Save your normalized\n",
    "ndarray as X_normalized.npy"
   ]
  },
  {
   "cell_type": "code",
   "execution_count": 8,
   "id": "8a0188b9-4f14-4b55-9a5c-4daaccfc283d",
   "metadata": {
    "jp-MarkdownHeadingCollapsed": true
   },
   "outputs": [],
   "source": [
    "x = np.random.random((5,5)) #generates random variables in 5x5 array \n",
    "mean = x.mean() #generates mean \n",
    "std = x.std() #generates the standard deviation \n",
    "X_normalized = (x - mean)/std #normalization \n",
    "\n",
    "\n",
    "#save as .npy\n",
    "np.save(\"X_normalized.npy\", X_normalized)\n"
   ]
  },
  {
   "cell_type": "code",
   "execution_count": 16,
   "id": "d0993d54-782f-4738-a1c0-fa33bacfb460",
   "metadata": {},
   "outputs": [
    {
     "name": "stdout",
     "output_type": "stream",
     "text": [
      "[[ 0.57286995 -0.7409904   0.73197592  1.34198333 -1.83106817]\n",
      " [-1.14239942  0.83796362  1.04412054 -0.43598166  1.38943762]\n",
      " [-1.38710521  0.90599453 -0.00673291 -0.64204201  0.63200247]\n",
      " [-1.0371945  -0.14743868 -1.28721235  1.2143662  -1.30483132]\n",
      " [ 1.21331395 -0.01185768  1.22338319 -0.32480755 -0.80774945]]\n",
      "mean:  0.613128759379074\n",
      "std:  0.26182162740816356\n"
     ]
    }
   ],
   "source": [
    "load = np.load(\"X_normalized.npy\") #outputing\n",
    "print(X_normalized)\n",
    "print('mean: ', mean)\n",
    "print('std: ', std)"
   ]
  },
  {
   "cell_type": "markdown",
   "id": "04238424-ca11-4d46-bdda-9275e8c6af4e",
   "metadata": {},
   "source": [
    "DIVISIBLE BY 3 PROBLEM:"
   ]
  },
  {
   "cell_type": "markdown",
   "id": "d5b050c6-8938-4aad-8578-f267d47fc48e",
   "metadata": {},
   "source": [
    "- Create the following 10 x 10 ndarray.Which are the squares of the first 100 positive integers.\n",
    "From this ndarray, determine all the elements that are divisible by 3. Save the result as div_by_3.npy\n"
   ]
  },
  {
   "cell_type": "code",
   "execution_count": 20,
   "id": "a8f8b290-2c35-48d8-b8e5-6946630e4b3c",
   "metadata": {},
   "outputs": [],
   "source": [
    "a = np.arange(1, 101) #outputs numbers 1-100\n",
    "a = a.reshape(10,10) #generates the 10x10 array \n",
    "a = np.square(a) #squares the value of each variable\n",
    "\n",
    "div_by_3 = a[a%3 == 0] #divides each variable by three\n",
    "\n",
    "#save as .npy\n",
    "np.save(\"div_by_3.npy\", div_by_3)\n"
   ]
  },
  {
   "cell_type": "code",
   "execution_count": 24,
   "id": "714258c9-984e-4a50-bffb-2562c9bef4b1",
   "metadata": {},
   "outputs": [
    {
     "name": "stdout",
     "output_type": "stream",
     "text": [
      "squares:  [[    1     4     9    16    25    36    49    64    81   100]\n",
      " [  121   144   169   196   225   256   289   324   361   400]\n",
      " [  441   484   529   576   625   676   729   784   841   900]\n",
      " [  961  1024  1089  1156  1225  1296  1369  1444  1521  1600]\n",
      " [ 1681  1764  1849  1936  2025  2116  2209  2304  2401  2500]\n",
      " [ 2601  2704  2809  2916  3025  3136  3249  3364  3481  3600]\n",
      " [ 3721  3844  3969  4096  4225  4356  4489  4624  4761  4900]\n",
      " [ 5041  5184  5329  5476  5625  5776  5929  6084  6241  6400]\n",
      " [ 6561  6724  6889  7056  7225  7396  7569  7744  7921  8100]\n",
      " [ 8281  8464  8649  8836  9025  9216  9409  9604  9801 10000]]\n",
      "divided by 3:  [   9   36   81  144  225  324  441  576  729  900 1089 1296 1521 1764\n",
      " 2025 2304 2601 2916 3249 3600 3969 4356 4761 5184 5625 6084 6561 7056\n",
      " 7569 8100 8649 9216 9801]\n"
     ]
    }
   ],
   "source": [
    "load = np.load(\"div_by_3.npy\") #outputing\n",
    "\n",
    "print('squares: ', a)\n",
    "print('divided by 3: ', div_by_3)"
   ]
  },
  {
   "cell_type": "code",
   "execution_count": null,
   "id": "7713e9c4-2508-419a-9994-d9d3e03c30ab",
   "metadata": {},
   "outputs": [],
   "source": []
  }
 ],
 "metadata": {
  "kernelspec": {
   "display_name": "Python [conda env:base] *",
   "language": "python",
   "name": "conda-base-py"
  },
  "language_info": {
   "codemirror_mode": {
    "name": "ipython",
    "version": 3
   },
   "file_extension": ".py",
   "mimetype": "text/x-python",
   "name": "python",
   "nbconvert_exporter": "python",
   "pygments_lexer": "ipython3",
   "version": "3.13.5"
  }
 },
 "nbformat": 4,
 "nbformat_minor": 5
}
